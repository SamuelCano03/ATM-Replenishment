{
  "nbformat": 4,
  "nbformat_minor": 0,
  "metadata": {
    "colab": {
      "provenance": []
    },
    "kernelspec": {
      "name": "python3",
      "display_name": "Python 3"
    },
    "language_info": {
      "name": "python"
    }
  },
  "cells": [
    {
      "cell_type": "code",
      "source": [
        "!pip install ortools -q"
      ],
      "metadata": {
        "id": "WsYiXiRElLuR",
        "colab": {
          "base_uri": "https://localhost:8080/"
        },
        "outputId": "fcb539a3-ea36-426f-a6b4-c1c0e16b1b01"
      },
      "execution_count": 1,
      "outputs": [
        {
          "output_type": "stream",
          "name": "stdout",
          "text": [
            "\u001b[2K   \u001b[90m━━━━━━━━━━━━━━━━━━━━━━━━━━━━━━━━━━━━━━━━\u001b[0m \u001b[32m28.1/28.1 MB\u001b[0m \u001b[31m11.3 MB/s\u001b[0m eta \u001b[36m0:00:00\u001b[0m\n",
            "\u001b[2K   \u001b[90m━━━━━━━━━━━━━━━━━━━━━━━━━━━━━━━━━━━━━━━━\u001b[0m \u001b[32m133.7/133.7 kB\u001b[0m \u001b[31m7.1 MB/s\u001b[0m eta \u001b[36m0:00:00\u001b[0m\n",
            "\u001b[2K   \u001b[90m━━━━━━━━━━━━━━━━━━━━━━━━━━━━━━━━━━━━━━━━\u001b[0m \u001b[32m302.8/302.8 kB\u001b[0m \u001b[31m9.3 MB/s\u001b[0m eta \u001b[36m0:00:00\u001b[0m\n",
            "\u001b[?25h\u001b[31mERROR: pip's dependency resolver does not currently take into account all the packages that are installed. This behaviour is the source of the following dependency conflicts.\n",
            "tensorflow 2.17.1 requires protobuf!=4.21.0,!=4.21.1,!=4.21.2,!=4.21.3,!=4.21.4,!=4.21.5,<5.0.0dev,>=3.20.3, but you have protobuf 5.26.1 which is incompatible.\n",
            "tensorflow-metadata 1.13.1 requires absl-py<2.0.0,>=0.9, but you have absl-py 2.1.0 which is incompatible.\n",
            "tensorflow-metadata 1.13.1 requires protobuf<5,>=3.20.3, but you have protobuf 5.26.1 which is incompatible.\u001b[0m\u001b[31m\n",
            "\u001b[0m"
          ]
        }
      ]
    },
    {
      "cell_type": "code",
      "source": [
        "from ortools.sat.python import cp_model"
      ],
      "metadata": {
        "id": "GHR7WZ5qs0Gp"
      },
      "execution_count": 2,
      "outputs": []
    },
    {
      "cell_type": "markdown",
      "source": [
        "# OR-Tools approach"
      ],
      "metadata": {
        "id": "0o3_LMabhKcj"
      }
    },
    {
      "cell_type": "code",
      "source": [
        "#@title Replenishment costs: solving for multiple atms in many days\n",
        "def solve_multiple_atms(CAPACIDAD, coef, saldos_iniciales, predicciones_demandas):\n",
        "    n_cajeros = len(saldos_iniciales)\n",
        "    ndias = len(predicciones_demandas[0])\n",
        "    for i in range(n_cajeros):\n",
        "        predicciones_demandas[i].insert(0, 0)\n",
        "    model = cp_model.CpModel()\n",
        "\n",
        "    saldo_final = {}\n",
        "    abastecimiento = {}\n",
        "    is_ab = {}\n",
        "\n",
        "    for atm in range(n_cajeros):\n",
        "        saldo_final[atm] = [model.NewIntVar(0, CAPACIDAD, f'sf[{atm},{i}]') for i in range(ndias + 1)]\n",
        "        abastecimiento[atm] = [model.NewIntVar(0, CAPACIDAD, f'ab[{atm},{i}]') for i in range(ndias + 1)]\n",
        "        is_ab[atm] = [model.NewBoolVar(f'is_ab[{atm},{i}]') for i in range(ndias + 1)]\n",
        "\n",
        "        model.Add(saldo_final[atm][0] == saldos_iniciales[atm])\n",
        "\n",
        "        for i in range(1, ndias + 1):\n",
        "            model.Add(saldo_final[atm][i - 1] - saldo_final[atm][i] + abastecimiento[atm][i] == predicciones_demandas[atm][i])\n",
        "\n",
        "            model.Add(saldo_final[atm][i] >= int(coef * CAPACIDAD))\n",
        "            model.Add(abastecimiento[atm][i] + saldo_final[atm][i - 1] <= CAPACIDAD)\n",
        "            model.Add(abastecimiento[atm][i] == 0).OnlyEnforceIf(is_ab[atm][i].Not())\n",
        "            model.Add(abastecimiento[atm][i] > 0).OnlyEnforceIf(is_ab[atm][i])\n",
        "\n",
        "    total_abastecimiento = sum(abastecimiento[atm][i] for atm in range(n_cajeros) for i in range(1, ndias + 1))\n",
        "    model.Minimize(total_abastecimiento)\n",
        "\n",
        "    solver = cp_model.CpSolver()\n",
        "    status = solver.Solve(model)\n",
        "\n",
        "    if status == cp_model.OPTIMAL or status == cp_model.FEASIBLE:\n",
        "        abastecimiento_resultado = {\n",
        "            atm: [solver.Value(abastecimiento[atm][i]) for i in range(1, ndias + 1)] for atm in range(n_cajeros)\n",
        "        }\n",
        "        is_ab_resultado = {\n",
        "            atm: [solver.Value(is_ab[atm][i]) for i in range(1, ndias + 1)] for atm in range(n_cajeros)\n",
        "        }\n",
        "        return abastecimiento_resultado, is_ab_resultado, ndias\n",
        "    print(\"No se encontró solución en la optimización de abastecimientos\")\n",
        "    return None, None, None"
      ],
      "metadata": {
        "id": "acVpBMaesySU"
      },
      "execution_count": 3,
      "outputs": []
    },
    {
      "cell_type": "code",
      "source": [
        "#@title Transport cost: one bus visits many ATMs\n",
        "\n",
        "def build_submatrix(atms_to_visit, mat):\n",
        "    indices = [0] + [atm + 1 for atm in atms_to_visit]\n",
        "    submatrix = []\n",
        "    for i in indices:\n",
        "        row = [mat[i][j] for j in indices]\n",
        "        submatrix.append(row)\n",
        "    return submatrix\n",
        "\n",
        "\n",
        "def minimize_cost(atms_to_visit, cost_matrix):\n",
        "    n_atms = len(atms_to_visit)\n",
        "    n = n_atms + 2 # suma inicio y fin\n",
        "\n",
        "    model = cp_model.CpModel()\n",
        "\n",
        "    V = [model.NewIntVar(0, n - 1, f'V[{i}]') for i in range(n)]\n",
        "    # empiza en el 0,0 y termina en 0,0\n",
        "    model.Add(V[0] == 0)\n",
        "    model.Add(V[n - 1] == 0)\n",
        "\n",
        "    for i in range(1, n - 1):\n",
        "        model.Add(V[i] >= 1)\n",
        "        model.Add(V[i] <= n_atms)\n",
        "\n",
        "    model.AddAllDifferent(V[1:n - 1])\n",
        "\n",
        "    mx = n*max(max(row) for row in cost_matrix)\n",
        "    cost_vars = []\n",
        "    matrix_flat = sum(cost_matrix, [])\n",
        "    size = len(cost_matrix)\n",
        "\n",
        "    for i in range(n - 1):\n",
        "        index = model.NewIntVar(0, size * size - 1, f'index[{i}]')\n",
        "        model.Add(index == V[i] * size + V[i + 1])\n",
        "        c = model.NewIntVar(0, mx, f'c[{i}]')\n",
        "        model.AddElement(index, matrix_flat, c)\n",
        "        cost_vars.append(c)\n",
        "\n",
        "    model.Minimize(sum(cost_vars))\n",
        "\n",
        "    solver = cp_model.CpSolver()\n",
        "    status = solver.Solve(model)\n",
        "\n",
        "    if status == cp_model.OPTIMAL or status == cp_model.FEASIBLE:\n",
        "        sequence = [solver.Value(V[i]) for i in range(n)]\n",
        "        route = ['Depósito']\n",
        "        for idx in sequence[1:n-1]:\n",
        "            atm_number = atms_to_visit[idx - 1] + 1  # +1 para cajero 1-based\n",
        "            route.append(f'Cajero {atm_number}')\n",
        "        route.append('Depósito')\n",
        "        return route, solver.ObjectiveValue()\n",
        "    else:\n",
        "        print('No se encontró solución en la optimización de transporte.')\n",
        "        return None, None"
      ],
      "metadata": {
        "id": "-4cO6uEGhAOQ"
      },
      "execution_count": 4,
      "outputs": []
    },
    {
      "cell_type": "code",
      "source": [
        "#@title Main\n",
        "def solve(CAPACIDAD, coef, saldos_iniciales, predicciones_demandas, cost_matrix_full):\n",
        "    resultados, dias_abastecimiento, ndias = solve_multiple_atms(CAPACIDAD, coef, saldos_iniciales, predicciones_demandas)\n",
        "    if not resultados: return\n",
        "    n_atms = len(saldos_iniciales)\n",
        "    for atm in range(n_atms):\n",
        "        print(f\"Cajero {atm+1}:\")\n",
        "        print(f\"  Abastecimientos: {resultados[atm]}\")\n",
        "        print(f\"  Días de abastecimiento: {dias_abastecimiento[atm]}\")\n",
        "\n",
        "    dias_a_abastecer = {}\n",
        "    for day in range(ndias):\n",
        "        atms_to_replenish = []\n",
        "        for atm in range(n_atms):\n",
        "            if dias_abastecimiento[atm][day] == 1:\n",
        "                atms_to_replenish.append(atm)\n",
        "        dias_a_abastecer[day] = atms_to_replenish\n",
        "\n",
        "    for day in range(ndias):\n",
        "        atms_to_replenish = dias_a_abastecer[day]\n",
        "        print(f\"\\nDía {day + 1}:\")\n",
        "        if atms_to_replenish:\n",
        "            cost_matrix = build_submatrix(atms_to_replenish, cost_matrix_full)\n",
        "            route, total_cost = minimize_cost(atms_to_replenish, cost_matrix)\n",
        "            if route:\n",
        "                print(f\"Costo total de transporte: {total_cost}\")\n",
        "                print(f\"Ruta óptima: {route}\")\n",
        "        else:\n",
        "            print(f\"\\nNo hay cajeros para abastecer.\")"
      ],
      "metadata": {
        "id": "3eumu6c91M3c"
      },
      "execution_count": 5,
      "outputs": []
    },
    {
      "cell_type": "code",
      "source": [
        "#@title Ejemplo\n",
        "\n",
        "CAPACIDAD = 100\n",
        "coef = 0.2\n",
        "saldos_iniciales = [30, 50]\n",
        "predicciones_demandas = [\n",
        "    [20],\n",
        "    [60]\n",
        "]\n",
        "\n",
        "cost_matrix_full = [\n",
        "    [0,2,5], #0->1->2 = 0 + 3 + 7 + 5 = 15\n",
        "    [3,0,7], #0->2->1 = 0 + 5 + 7 + 2 = 14\n",
        "    [5,7,0]\n",
        "]\n",
        "solve(CAPACIDAD, coef, saldos_iniciales, predicciones_demandas, cost_matrix_full)"
      ],
      "metadata": {
        "id": "txDCe9GM3Niq",
        "outputId": "36ccc022-c00d-4f6f-a9ef-8a10f2c67621",
        "colab": {
          "base_uri": "https://localhost:8080/"
        }
      },
      "execution_count": 6,
      "outputs": [
        {
          "output_type": "stream",
          "name": "stdout",
          "text": [
            "Cajero 1:\n",
            "  Abastecimientos: [10]\n",
            "  Días de abastecimiento: [1]\n",
            "Cajero 2:\n",
            "  Abastecimientos: [30]\n",
            "  Días de abastecimiento: [1]\n",
            "\n",
            "Día 1:\n",
            "Costo total de transporte: 14.0\n",
            "Ruta óptima: ['Depósito', 'Cajero 1', 'Cajero 2', 'Depósito']\n"
          ]
        }
      ]
    }
  ]
}